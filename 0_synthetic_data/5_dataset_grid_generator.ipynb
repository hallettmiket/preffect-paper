{
 "cells": [
  {
   "cell_type": "code",
   "execution_count": 14,
   "metadata": {},
   "outputs": [],
   "source": [
    "import pickle\n",
    "import sys\n",
    "import os\n",
    "import random\n",
    "import numpy as np\n",
    "import pandas as pd\n",
    "import scipy.stats as stats\n",
    "import anndata as ad\n",
    "\n",
    "import matplotlib.pyplot as plt\n",
    "from scipy.stats import lognorm\n",
    "\n",
    "sys.path.insert(0, '../4_preffect')\n",
    "from _config import configs\n",
    "from preffect_factory import factory\n",
    "\n",
    "from _utils import ensure_directory"
   ]
  },
  {
   "cell_type": "code",
   "execution_count": 15,
   "metadata": {},
   "outputs": [],
   "source": [
    "# if the dataset generated will have artificial drop-out\n",
    "configs['lambda_counts'] = 0.1\n",
    "configs['masking_strategy'] = None #'MCAR_2'\n",
    "\n",
    "# set samples / genes\n",
    "M=1000\n",
    "N=1000\n",
    "\n",
    "# set range of Mu and thetas\n",
    "theta_select = [0.01, 0.1, 1, 2, 5, 10, 100]\n",
    "mu_select = [50, 100, 500, 1000]"
   ]
  },
  {
   "cell_type": "code",
   "execution_count": 16,
   "metadata": {},
   "outputs": [],
   "source": [
    "# right now, batch 2 is not created. If we want a grid with batch effects, we'll need to change this\n",
    "def generate_simple_dataset(M=M, N=N, mu_1=1, theta_1=1, mu_2=1, theta_2=1):\n",
    "\n",
    "    # Batch assignment\n",
    "    # right now, program is set to only create \"batch 1\" patients\n",
    "    batches = np.random.choice([0, 1], size=M, p=[1, 0])\n",
    "    alt_cat = np.random.choice([0, 1, 2, 3], size=M, p=[0.25, 0.25, 0.25, 0.25]) # random cat variable\n",
    "    alt_cont = np.random.rand(M) # random cont variable between 0-1\n",
    "\n",
    "    # Generate mu values for each gene for each batch from log-normal\n",
    "    std_dev = 0.1\n",
    "    mu_batch1 = np.random.lognormal(np.log(mu_1), std_dev, size=N) # was 353\n",
    "\n",
    "    mu_batch2 = np.random.lognormal(np.log(mu_2), std_dev, size=N)\n",
    "\n",
    "    # Generate theta values for each gene for each batch\n",
    "    theta_batch1 = np.full(N, theta_1)\n",
    "    theta_batch2 = np.full(N, theta_2)\n",
    "\n",
    "    # Function to generate gene counts\n",
    "    def generate_gene_counts(mu, theta, size):\n",
    "        return np.random.negative_binomial(theta, theta / (theta + mu), size=size)\n",
    "\n",
    "    # Generate count matrix X and truth matrix\n",
    "    X = np.zeros((M, N))\n",
    "    truth = np.zeros((M, N))\n",
    "\n",
    "    for i in range(M):\n",
    "        if batches[i] == 0:\n",
    "            X[i, :] = generate_gene_counts(mu_batch1, theta_1, N)\n",
    "            truth[i, :] = mu_batch1\n",
    "        else:\n",
    "            X[i, :] = generate_gene_counts(mu_batch2, theta_2, N)\n",
    "            truth[i, :] = mu_batch2\n",
    "\n",
    "    adata = anndata.AnnData(X=X)\n",
    "\n",
    "    # added a few random variables to test multiple cat/cont. variables\n",
    "    adata.obs['batch'] = pd.Categorical(batches)\n",
    "    adata.obs['rand_cat'] = pd.Categorical(alt_cat)\n",
    "    adata.obs['rand_cont'] = pd.Categorical(alt_cont)\n",
    "\n",
    "    gene_names = [f'gene_{i}' for i in range(N)]\n",
    "    adata.var['gene'] = gene_names\n",
    "    adata.var_names = gene_names\n",
    "\n",
    "    adata.var['mu_batch1'] = mu_batch1\n",
    "    adata.var['mu_batch2'] = mu_batch2\n",
    "    adata.var['theta_batch1'] = theta_batch1\n",
    "    adata.var['theta_batch2'] = theta_batch2\n",
    "    adata.layers[\"truth\"] = truth\n",
    "\n",
    "    return adata\n",
    "\n",
    "\n",
    "def MCAR_2(adata, Pis):\n",
    "\n",
    "    X = adata.X.copy()  # clone X before modifying\n",
    "    indices_for_all_genes = []\n",
    "\n",
    "    for j in range(N):\n",
    "        num_indices_to_zero = int(Pis[j] * M)\n",
    "        indices_to_zero = random.sample(range(M), num_indices_to_zero)\n",
    "        for idx in indices_to_zero:\n",
    "            indices_for_all_genes.append((idx, j))\n",
    "        X[indices_to_zero, j] = 0\n",
    "\n",
    "    return X"
   ]
  },
  {
   "cell_type": "code",
   "execution_count": null,
   "metadata": {},
   "outputs": [],
   "source": [
    "data_count = 0\n",
    "\n",
    "for mus in mu_select:\n",
    "    for thetas in theta_select:\n",
    "        data_count += 1\n",
    "\n",
    "        # Create NB distributions\n",
    "        train = generate_simple_dataset(M, N, mu_1=mus, theta_1 = thetas)\n",
    "        test = generate_simple_dataset(M, N, mu_1=mus, theta_1 = thetas)\n",
    "        validation = generate_simple_dataset(M, N, mu_1=mus, theta_1 = thetas)\n",
    "\n",
    "        # Add zeroes to mimick dropout (if desired)\n",
    "        if configs['masking_strategy'] == 'MCAR_2':\n",
    "            # we want Pis to be consistent across datasets; we should also add it to var\n",
    "            Pis = np.random.rand(N) * configs['lambda_counts']\n",
    "            \n",
    "            train.X = MCAR_2(train, Pis)\n",
    "            test.X = MCAR_2(test, Pis)\n",
    "            validation.X = MCAR_2(validation, Pis)\n",
    "\n",
    "            train.var['Pis'] = Pis\n",
    "            test.var['Pis'] = Pis\n",
    "            validation.var['Pis'] = Pis\n",
    "\n",
    "        # write\n",
    "        dataset_name = \"dataset_grid_\" + str(data_count)\n",
    "        configs['input_anndata_path'] = '/path/to/output/main_synthetic/' + dataset_name + '/'\n",
    "        configs['input_inference_anndata_path'] = '/path/to/output/main_synthetic/' + dataset_name + '/train/'\n",
    "\n",
    "        ensure_directory(os.path.join(configs['input_anndata_path'], 'train'))\n",
    "        ensure_directory(os.path.join(configs['input_anndata_path'], 'validation'))\n",
    "        ensure_directory(os.path.join(configs['input_anndata_path'], 'test'))\n",
    "\n",
    "        train.write(os.path.join(configs['input_anndata_path'], 'train', \"syn_data_grid_\" + str(data_count) + \"_train.tau_1.h5ad\"))\n",
    "        validation.write(os.path.join(configs['input_anndata_path'], 'validation', \"syn_data_grid_\" + str(data_count) + \"_validation.tau_1.h5ad\"))\n",
    "        test.write(os.path.join(configs['input_anndata_path'], 'test', \"syn_data_grid_\" + str(data_count) + \"_test.tau_1.h5ad\"))\n"
   ]
  },
  {
   "cell_type": "code",
   "execution_count": 9,
   "metadata": {},
   "outputs": [],
   "source": []
  },
  {
   "cell_type": "code",
   "execution_count": 18,
   "metadata": {},
   "outputs": [
    {
     "name": "stderr",
     "output_type": "stream",
     "text": [
      "/home/UWO/emucaki/miniconda3/envs/ffpe_env_gpu/lib/python3.9/site-packages/numpy/lib/histograms.py:905: RuntimeWarning: invalid value encountered in true_divide\n",
      "  return n/db/n.sum(), bin_edges\n"
     ]
    },
    {
     "data": {
      "image/png": "[encoded data removed]",
      "text/plain": [
       "<Figure size 640x480 with 1 Axes>"
      ]
     },
     "metadata": {},
     "output_type": "display_data"
    }
   ],
   "source": [
    "# John added code\n",
    "# I wanted to see exactly how different the distribution of expression was between the two batches\n",
    "# draw library size information distrubtions\n",
    "library_sizes = np.log(train.X.sum(axis=1))\n",
    "\n",
    "batches = train.obs['batch']\n",
    "library_sizes_batch1 = library_sizes[batches == 0]\n",
    "library_sizes_batch2 = library_sizes[batches == 1]\n",
    "\n",
    "# Plotting the samples\n",
    "#plt.hist(library_sizes, bins=50, density=True, alpha=0.5, color='blue', label=f'Library Size [all samples]')\n",
    "#plt.figure(figsize=(8, 6))\n",
    "plt.hist(library_sizes_batch1, bins=50, density=True, alpha=0.5, color='blue', label='Library Size [Batch 1]')\n",
    "plt.hist(library_sizes_batch2, bins=50, density=True, alpha=0.5, color='orange', label='Library Size [Batch 2]')\n",
    "plt.title('Library Size of Simulated Samples Between Each Batch')\n",
    "plt.xlabel('Log Library Size (Log of Total Counts)')\n",
    "plt.ylabel('Density')\n",
    "plt.legend()\n",
    "plt.show()"
   ]
  },
  {
   "cell_type": "markdown",
   "metadata": {},
   "source": [
    "So there is a clear difference, nearly 10x more reads in the first batch"
   ]
  },
  {
   "cell_type": "code",
   "execution_count": 21,
   "metadata": {},
   "outputs": [
    {
     "name": "stdout",
     "output_type": "stream",
     "text": [
      "[0]\n",
      "[[  0.   0.   0. ...   0.   8.   0.]\n",
      " [  0.   0.   0. ...   0.  15.   0.]\n",
      " [  0.   0.  28. ...   0.   0.   0.]\n",
      " ...\n",
      " [ 84.   0.   0. ...   0.   0.   0.]\n",
      " [  0.   0.   0. ... 649.   0.   0.]\n",
      " [  0.   0.   0. ...   0.   0.   0.]]\n",
      "[[  0.   0.   0. ...   0.   8.   0.]\n",
      " [  0.   0.   0. ...   0.  15.   0.]\n",
      " [  0.   0.  28. ...   0.   0.   0.]\n",
      " ...\n",
      " [ 84.   0.   0. ...   0.   0.   0.]\n",
      " [  0.   0.   0. ... 649.   0.   0.]\n",
      " [  0.   0.   0. ...   0.   0.   0.]]\n",
      "[[  0.   0.   0. ...   0.   8.   0.]\n",
      " [  0.   0.   0. ...   0.  15.   0.]\n",
      " [  0.   0.  28. ...   0.   0.   0.]\n",
      " ...\n",
      " [ 84.   0.   0. ...   0.   0.   0.]\n",
      " [  0.   0.   0. ... 649.   0.   0.]\n",
      " [  0.   0.   0. ...   0.   0.   0.]]\n",
      "(1000, 1000)\n"
     ]
    }
   ],
   "source": [
    "\n",
    "\n",
    "num_categories = len(np.unique(train.obs['batch']))  \n",
    "      \n",
    "subsets = [train.X[train.obs['batch'] == value] for value in train.obs['batch']]\n",
    "#averages = [subset.mean(dim=0) for subset in subsets]\n",
    "print(np.unique(train.obs['batch']))\n",
    "print(subsets[0])\n",
    "print(subsets[1])\n",
    "print(subsets[2])\n",
    "\n",
    "print(train.X.shape)"
   ]
  }
 ],
 "metadata": {
  "kernelspec": {
   "display_name": "preffect_gpu_env",
   "language": "python",
   "name": "python3"
  },
  "language_info": {
   "codemirror_mode": {
    "name": "ipython",
    "version": 3
   },
   "file_extension": ".py",
   "mimetype": "text/x-python",
   "name": "python",
   "nbconvert_exporter": "python",
   "pygments_lexer": "ipython3",
   "version": "3.9.7"
  }
 },
 "nbformat": 4,
 "nbformat_minor": 2
}
